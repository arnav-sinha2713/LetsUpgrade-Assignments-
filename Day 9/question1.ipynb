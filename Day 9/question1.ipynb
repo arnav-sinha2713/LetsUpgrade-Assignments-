{
 "cells": [
  {
   "cell_type": "code",
   "execution_count": null,
   "metadata": {},
   "outputs": [],
   "source": [
    "%%writefile check_prime.py\n",
    "'''\n",
    "It is a checkprime module\n",
    "'''\n",
    "def checkprime(num):\n",
    "    '''\n",
    "    It is a checkprime function\n",
    "    '''\n",
    "    result=False\n",
    "    for i in range(2,num):\n",
    "        if num%i==0:\n",
    "            result=False\n",
    "            break\n",
    "        else:\n",
    "            result=True\n",
    "    if result==True:\n",
    "        return True\n",
    "    else:\n",
    "        return False\n",
    "\n",
    "print(checkprime(57))"
   ]
  },
  {
   "cell_type": "code",
   "execution_count": 2,
   "metadata": {},
   "outputs": [
    {
     "name": "stdout",
     "output_type": "stream",
     "text": [
      "Requirement already satisfied: pylint in c:\\users\\hp\\appdata\\roaming\\python\\python38\\site-packages (2.6.0)\n",
      "Requirement already satisfied: colorama; sys_platform == \"win32\" in c:\\users\\hp\\appdata\\roaming\\python\\python38\\site-packages (from pylint) (0.4.3)\n",
      "Requirement already satisfied: isort<6,>=4.2.5 in c:\\users\\hp\\appdata\\roaming\\python\\python38\\site-packages (from pylint) (5.4.2)\n",
      "Requirement already satisfied: toml>=0.7.1 in c:\\users\\hp\\appdata\\roaming\\python\\python38\\site-packages (from pylint) (0.10.1)\n",
      "Requirement already satisfied: mccabe<0.7,>=0.6 in c:\\users\\hp\\appdata\\roaming\\python\\python38\\site-packages (from pylint) (0.6.1)\n",
      "Requirement already satisfied: astroid<=2.5,>=2.4.0 in c:\\users\\hp\\appdata\\roaming\\python\\python38\\site-packages (from pylint) (2.4.2)\n",
      "Requirement already satisfied: wrapt~=1.11 in c:\\users\\hp\\appdata\\roaming\\python\\python38\\site-packages (from astroid<=2.5,>=2.4.0->pylint) (1.12.1)\n",
      "Requirement already satisfied: six~=1.12 in c:\\users\\hp\\appdata\\roaming\\python\\python38\\site-packages (from astroid<=2.5,>=2.4.0->pylint) (1.15.0)\n",
      "Requirement already satisfied: lazy-object-proxy==1.4.* in c:\\users\\hp\\appdata\\roaming\\python\\python38\\site-packages (from astroid<=2.5,>=2.4.0->pylint) (1.4.3)\n"
     ]
    }
   ],
   "source": [
    "! pip install pylint"
   ]
  },
  {
   "cell_type": "code",
   "execution_count": 3,
   "metadata": {},
   "outputs": [
    {
     "name": "stdout",
     "output_type": "stream",
     "text": [
      "************* Module check_prime\n",
      "check_prime.py:10:8: R1723: Unnecessary \"else\" after \"break\" (no-else-break)\n",
      "check_prime.py:15:4: R1703: The if statement can be replaced with 'return bool(test)' (simplifiable-if-statement)\n",
      "check_prime.py:15:4: R1705: Unnecessary \"else\" after \"return\" (no-else-return)\n",
      "check_prime.py:15:7: C0121: Comparison to True should be just 'expr' (singleton-comparison)\n",
      "\n",
      "------------------------------------------------------------------\n",
      "\n",
      "Your code has been rated at 6.36/10 (previous run: 6.36/10, +0.00)\n",
      "\n",
      "\n",
      "\n"
     ]
    }
   ],
   "source": [
    "! pylint \"check_prime.py\""
   ]
  },
  {
   "cell_type": "code",
   "execution_count": 16,
   "metadata": {},
   "outputs": [
    {
     "name": "stdout",
     "output_type": "stream",
     "text": [
      "Collecting unittest2\n",
      "  Downloading unittest2-1.1.0-py2.py3-none-any.whl (96 kB)\n",
      "Requirement already satisfied: six>=1.4 in c:\\users\\hp\\appdata\\roaming\\python\\python38\\site-packages (from unittest2) (1.15.0)\n",
      "Collecting traceback2\n",
      "  Downloading traceback2-1.4.0-py2.py3-none-any.whl (16 kB)\n",
      "Collecting argparse\n",
      "  Downloading argparse-1.4.0-py2.py3-none-any.whl (23 kB)\n",
      "Collecting linecache2\n",
      "  Downloading linecache2-1.0.0-py2.py3-none-any.whl (12 kB)\n",
      "Installing collected packages: linecache2, traceback2, argparse, unittest2\n",
      "Successfully installed argparse-1.4.0 linecache2-1.0.0 traceback2-1.4.0 unittest2-1.1.0\n"
     ]
    }
   ],
   "source": [
    "! pip install unittest2"
   ]
  },
  {
   "cell_type": "code",
   "execution_count": 7,
   "metadata": {},
   "outputs": [
    {
     "name": "stdout",
     "output_type": "stream",
     "text": [
      "Overwriting unit1test.py\n"
     ]
    }
   ],
   "source": [
    "%%writefile unit1test.py\n",
    "\n",
    "import unittest\n",
    "import check_prime\n",
    "\n",
    "class testPrime(unittest.TestCase):\n",
    "    def isprime(self):\n",
    "        a=15\n",
    "        result=check_prime.checkprime(a)\n",
    "        self.assertEquals(result, True)\n",
    "        \n",
    "if __name__==\"__main__\":\n",
    "    unittest.main()"
   ]
  },
  {
   "cell_type": "code",
   "execution_count": 10,
   "metadata": {},
   "outputs": [
    {
     "name": "stdout",
     "output_type": "stream",
     "text": [
      "False\n"
     ]
    }
   ],
   "source": [
    "import check_prime\n",
    "\n",
    "a=15\n",
    "print(check_prime.checkprime(a))"
   ]
  },
  {
   "cell_type": "code",
   "execution_count": 11,
   "metadata": {},
   "outputs": [
    {
     "name": "stdout",
     "output_type": "stream",
     "text": [
      "False\n"
     ]
    },
    {
     "name": "stderr",
     "output_type": "stream",
     "text": [
      "\n",
      "----------------------------------------------------------------------\n",
      "Ran 0 tests in 0.000s\n",
      "\n",
      "OK\n"
     ]
    }
   ],
   "source": [
    "! python unit1test.py"
   ]
  },
  {
   "cell_type": "code",
   "execution_count": null,
   "metadata": {},
   "outputs": [],
   "source": []
  },
  {
   "cell_type": "code",
   "execution_count": null,
   "metadata": {},
   "outputs": [],
   "source": []
  }
 ],
 "metadata": {
  "kernelspec": {
   "display_name": "Python 3",
   "language": "python",
   "name": "python3"
  },
  "language_info": {
   "codemirror_mode": {
    "name": "ipython",
    "version": 3
   },
   "file_extension": ".py",
   "mimetype": "text/x-python",
   "name": "python",
   "nbconvert_exporter": "python",
   "pygments_lexer": "ipython3",
   "version": "3.8.3"
  }
 },
 "nbformat": 4,
 "nbformat_minor": 4
}
