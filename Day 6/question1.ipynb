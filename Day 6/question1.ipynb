{
 "cells": [
  {
   "cell_type": "code",
   "execution_count": 14,
   "metadata": {},
   "outputs": [],
   "source": [
    "class bankAcc():\n",
    "    def __init__(self,ownername,balance):\n",
    "        self.ownername=ownername\n",
    "        self.balance=balance\n",
    "    \n",
    "    def deposit(self,amt):\n",
    "        print(\"previous balance \",self.balance)\n",
    "        self.balance+=amt\n",
    "        print(\"balance after deposit \",self.balance)\n",
    "    \n",
    "    def withdrawal(self,amt):\n",
    "        print(\"previous balance \",self.balance)\n",
    "        if amt<=self.balance:\n",
    "            self.balance-=amt\n",
    "            print(\"balance after withdrawl \",self.balance)\n",
    "        else:\n",
    "            print(\"you dont have sufficient balance for withdrawal\")"
   ]
  },
  {
   "cell_type": "code",
   "execution_count": 15,
   "metadata": {},
   "outputs": [],
   "source": [
    "arnav=bankAcc(\"Arnav\",2000)"
   ]
  },
  {
   "cell_type": "code",
   "execution_count": 16,
   "metadata": {},
   "outputs": [
    {
     "data": {
      "text/plain": [
       "2000"
      ]
     },
     "execution_count": 16,
     "metadata": {},
     "output_type": "execute_result"
    }
   ],
   "source": [
    "arnav.balance"
   ]
  },
  {
   "cell_type": "code",
   "execution_count": 17,
   "metadata": {},
   "outputs": [
    {
     "name": "stdout",
     "output_type": "stream",
     "text": [
      "previous balance  2000\n",
      "balance after deposit  2500\n"
     ]
    }
   ],
   "source": [
    "arnav.deposit(500)"
   ]
  },
  {
   "cell_type": "code",
   "execution_count": 18,
   "metadata": {},
   "outputs": [
    {
     "name": "stdout",
     "output_type": "stream",
     "text": [
      "previous balance  2500\n",
      "balance after withdrawl  500\n"
     ]
    }
   ],
   "source": [
    "arnav.withdrawal(2000)"
   ]
  },
  {
   "cell_type": "code",
   "execution_count": 19,
   "metadata": {},
   "outputs": [
    {
     "name": "stdout",
     "output_type": "stream",
     "text": [
      "previous balance  500\n",
      "you dont have sufficient balance for withdrawal\n"
     ]
    }
   ],
   "source": [
    "arnav.withdrawal(1000)"
   ]
  },
  {
   "cell_type": "code",
   "execution_count": null,
   "metadata": {},
   "outputs": [],
   "source": []
  }
 ],
 "metadata": {
  "kernelspec": {
   "display_name": "Python 3",
   "language": "python",
   "name": "python3"
  },
  "language_info": {
   "codemirror_mode": {
    "name": "ipython",
    "version": 3
   },
   "file_extension": ".py",
   "mimetype": "text/x-python",
   "name": "python",
   "nbconvert_exporter": "python",
   "pygments_lexer": "ipython3",
   "version": "3.8.5"
  }
 },
 "nbformat": 4,
 "nbformat_minor": 4
}
